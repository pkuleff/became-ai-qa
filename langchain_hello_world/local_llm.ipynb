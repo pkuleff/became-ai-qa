{
 "cells": [
  {
   "cell_type": "markdown",
   "id": "ceef3207",
   "metadata": {},
   "source": [
    "How to use a local LLM, obtained from Hugging Face, in a Q&A scenario."
   ]
  },
  {
   "cell_type": "markdown",
   "id": "0b9867e7",
   "metadata": {},
   "source": [
    "## Installs, Imports and Configuration"
   ]
  },
  {
   "cell_type": "code",
   "execution_count": 1,
   "id": "d8a22030",
   "metadata": {},
   "outputs": [],
   "source": [
    "import json"
   ]
  },
  {
   "cell_type": "code",
   "execution_count": 2,
   "id": "339bf4e4",
   "metadata": {},
   "outputs": [],
   "source": [
    "from langchain.llms import OpenAI\n",
    "from langchain.document_loaders import WebBaseLoader\n",
    "from langchain.text_splitter import RecursiveCharacterTextSplitter\n",
    "from langchain.embeddings import HuggingFaceEmbeddings\n",
    "from langchain.vectorstores import Chroma\n",
    "from langchain.chains import RetrievalQA\n",
    "from langchain import HuggingFacePipeline, LLMChain, PromptTemplate"
   ]
  },
  {
   "cell_type": "markdown",
   "id": "135f483c",
   "metadata": {},
   "source": [
    "## QA Pipeline\n",
    "See https://python.langchain.com/docs/use_cases/question_answering/"
   ]
  },
  {
   "cell_type": "markdown",
   "id": "add0e6de",
   "metadata": {},
   "source": [
    "### Loading Documents\n",
    "Use the `WebBaseLoader` to fetch websites."
   ]
  },
  {
   "cell_type": "code",
   "execution_count": 3,
   "id": "93c6e34a",
   "metadata": {},
   "outputs": [],
   "source": [
    "pages = [\"https://en.wikipedia.org/wiki/Vincent_van_Gogh\",\n",
    "         \"https://medium.com/@anastasia_mze/vincent-van-gogh-from-a-bum-to-a-master-743aec22755e\",\n",
    "         \"https://www.history.com/news/7-things-you-may-not-know-about-vincent-van-gogh\",\n",
    "         \"https://arthinkal.com/vincent-van-gogh-a-brief-biography-1853-1890/\",\n",
    "         \"https://www.metmuseum.org/toah/hd/gogh/hd_gogh.htm\"]\n",
    "\n",
    "loader = WebBaseLoader(pages)\n",
    "docs = loader.load()"
   ]
  },
  {
   "cell_type": "markdown",
   "id": "cd590fd9",
   "metadata": {},
   "source": [
    "Display documents:"
   ]
  },
  {
   "cell_type": "code",
   "execution_count": 4,
   "id": "c8f7a8c8",
   "metadata": {},
   "outputs": [],
   "source": [
    "# print(\"Document metadata:\\n\")\n",
    "# for i in range(len(docs)):\n",
    "#     print(20*\"-\")\n",
    "#     print(docs[i].metadata[\"source\"])\n",
    "#     print(docs[i].metadata[\"title\"])\n",
    "#     print(docs[i].metadata[\"language\"])"
   ]
  },
  {
   "cell_type": "markdown",
   "id": "70cab0c7",
   "metadata": {},
   "source": [
    "### Split\n",
    "Split documents into chunks with the `RecursiveCharacterTextSplitter`."
   ]
  },
  {
   "cell_type": "code",
   "execution_count": 5,
   "id": "e7d08eaa",
   "metadata": {},
   "outputs": [],
   "source": [
    "text_splitter = RecursiveCharacterTextSplitter(chunk_size = 500, chunk_overlap = 200)\n",
    "splits = text_splitter.split_documents(docs)"
   ]
  },
  {
   "cell_type": "markdown",
   "id": "b1150c87",
   "metadata": {},
   "source": [
    "Display info on splits:"
   ]
  },
  {
   "cell_type": "code",
   "execution_count": 6,
   "id": "437e5464",
   "metadata": {},
   "outputs": [],
   "source": [
    "# print(\"Split metadata:\\n\")\n",
    "# print(f\"Number of splits: {len(splits)}\\n\")\n",
    "# for i in range(15,20):\n",
    "#     print(20*\"-\")\n",
    "#     print(splits[i].metadata, \"\\n\")\n",
    "#     print(splits[i].page_content)\n",
    "    \n",
    "#     print(\"\\n\")"
   ]
  },
  {
   "cell_type": "markdown",
   "id": "53d70261",
   "metadata": {},
   "source": [
    "### Embed in Vector Store\n",
    "Embed the splits into a chroma vector DB using `HuggingFaceEmbeddings`."
   ]
  },
  {
   "cell_type": "code",
   "execution_count": 7,
   "id": "198c3f5c",
   "metadata": {},
   "outputs": [],
   "source": [
    "hf_embeddings = HuggingFaceEmbeddings()\n",
    "vectorstore = Chroma.from_documents(documents=splits, embedding=hf_embeddings)"
   ]
  },
  {
   "cell_type": "markdown",
   "id": "c81c6580",
   "metadata": {},
   "source": [
    "Display embedding settings:"
   ]
  },
  {
   "cell_type": "code",
   "execution_count": 8,
   "id": "4715a77e",
   "metadata": {},
   "outputs": [],
   "source": [
    "# display(hf_embeddings.schema())\n",
    "# print(hf_embeddings.schema()[\"description\"])\n",
    "# display(hf_embeddings.schema()[\"properties\"])"
   ]
  },
  {
   "cell_type": "markdown",
   "id": "c37b1945",
   "metadata": {},
   "source": [
    "Query the DB:"
   ]
  },
  {
   "cell_type": "code",
   "execution_count": 9,
   "id": "0046d11c",
   "metadata": {},
   "outputs": [],
   "source": [
    "question = \"Where was Vincent van Gogh born?\"\n",
    "\n",
    "# qa_docs = vectorstore.similarity_search(question)\n",
    "qa_docs = vectorstore.similarity_search_with_relevance_scores(question)"
   ]
  },
  {
   "cell_type": "code",
   "execution_count": 10,
   "id": "e133a614",
   "metadata": {},
   "outputs": [
    {
     "name": "stdout",
     "output_type": "stream",
     "text": [
      "----------------------------------------\n",
      "Vincent van Gogh - Wikipedia\n",
      "----------------------------------------\n",
      "Vincent Willem van Gogh was born on 30 March 1853 in Groot-Zundert, in the predominantly Catholic province of North Brabant in the Netherlands.[24] He was the oldest surviving child of Theodorus van Gogh (1822–1885), a minister of the Dutch Reformed Church, and his wife, Anna Cornelia Carbentus (1819–1907). Van Gogh was given the name of his grandfather and of a brother stillborn exactly a year before his birth.[note 2] Vincent was a common name in the Van Gogh family. The name had been borne\n",
      "\n",
      "\n",
      "Similarity score: 0.6875122015924975\n",
      "\n",
      "\n",
      "----------------------------------------\n",
      "Vincent van Gogh - A Brief Biography (1853-1890) - Arthinkal Magazine\n",
      "----------------------------------------\n",
      "Early Life and Education\n",
      "Vincent van Gogh was born on 30th March 1853 in Groot-Zundert, a municipality and town in the south of the Netherlands.\n",
      "Van Gogh was the oldest surviving child of Theodorus van Gogh, a minister of the Dutch Reformed Church, and Anna Cornelia Carbentus, who came from a prosperous family.\n",
      "Van Gogh was said to be a serious and thoughtful child, who was at first home-schooled by his mother and a governess. Later on, in 1860, he was sent to the local village school.\n",
      "\n",
      "\n",
      "Similarity score: 0.6640875943194461\n",
      "\n",
      "\n",
      "----------------------------------------\n",
      "Vincent van Gogh - A Brief Biography (1853-1890) - Arthinkal Magazine\n",
      "----------------------------------------\n",
      "In 1868, Van Gogh left school and returned home. He would later describe his youth as austere, cold, and sterile.\n",
      "Early Adult Life\n",
      "In 1869, Vincent van Gogh began working at Goupil & Cie, a leading art dealership in 19th-century France, in their The Hague branch. The position was obtained for him by his uncle.\n",
      "\n",
      "\n",
      "Similarity score: 0.6086831174346623\n",
      "\n",
      "\n",
      "----------------------------------------\n",
      "Vincent van Gogh - Wikipedia\n",
      "----------------------------------------\n",
      "In September 1883, Van Gogh moved to Drenthe in the northern Netherlands. In December driven by loneliness, he went to live with his parents, then in Nuenen, North Brabant.[89]\n",
      "\n",
      "\n",
      "Similarity score: 0.5973762137972507\n",
      "\n",
      "\n"
     ]
    }
   ],
   "source": [
    "for i in range(len(qa_docs)):\n",
    "    print(\"-\"*40)\n",
    "    print(qa_docs[i][0].metadata[\"title\"])\n",
    "    print(\"-\"*40)\n",
    "    print(qa_docs[i][0].page_content)\n",
    "    print(\"\\n\")\n",
    "    print(f\"Similarity score: {qa_docs[i][1]}\")\n",
    "    print(\"\\n\")"
   ]
  },
  {
   "cell_type": "markdown",
   "id": "e6cb42a1",
   "metadata": {},
   "source": [
    "### Generate Response\n",
    "see https://www.markhneedham.com/blog/2023/06/23/hugging-face-run-llm-model-locally-laptop/\n",
    "\n",
    "Useful models on Hugging Face:\n",
    "* google/flan-t5-small (https://huggingface.co/google/flan-t5-small)\n",
    "* google/flan-t5-base (https://huggingface.co/google/flan-t5-base)\n",
    "\n",
    "Path to Hugging Face models downloaded via `HuggingFacePipeline.from_model_id`: `<user>/.cache/huggingface/hub/`"
   ]
  },
  {
   "cell_type": "markdown",
   "id": "937668e9",
   "metadata": {},
   "source": [
    "First download a model from Hugging Face (depending on the model size this could take a while):"
   ]
  },
  {
   "cell_type": "code",
   "execution_count": 11,
   "id": "5cb07853",
   "metadata": {},
   "outputs": [],
   "source": [
    "llm = HuggingFacePipeline.from_model_id(\n",
    "    model_id=\"google/flan-t5-base\",\n",
    "    task=\"text2text-generation\",\n",
    "    model_kwargs={\"temperature\": 0, \"max_length\": 1000}\n",
    ")"
   ]
  },
  {
   "cell_type": "code",
   "execution_count": 12,
   "id": "b8758225",
   "metadata": {},
   "outputs": [],
   "source": [
    "# display model properties (optional)\n",
    "# dict(llm)"
   ]
  },
  {
   "cell_type": "markdown",
   "id": "96e68e37",
   "metadata": {},
   "source": [
    "Ask a question:"
   ]
  },
  {
   "cell_type": "code",
   "execution_count": 13,
   "id": "f1bbe3e0",
   "metadata": {},
   "outputs": [
    {
     "name": "stderr",
     "output_type": "stream",
     "text": [
      "/home/peter/anaconda3/envs/became_ai/lib/python3.10/site-packages/transformers/generation/utils.py:1270: UserWarning: You have modified the pretrained model configuration to control generation. This is a deprecated strategy to control generation and will be removed soon, in a future version. Please use a generation configuration file (see https://huggingface.co/docs/transformers/main_classes/text_generation )\n",
      "  warnings.warn(\n"
     ]
    },
    {
     "data": {
      "text/plain": [
       "{'query': 'Where was Vincent van Gogh born?', 'result': 'Groot-Zundert'}"
      ]
     },
     "execution_count": 13,
     "metadata": {},
     "output_type": "execute_result"
    }
   ],
   "source": [
    "# prepare LLM chain\n",
    "qa_chain = RetrievalQA.from_chain_type(llm,retriever=vectorstore.as_retriever())\n",
    "\n",
    "# use LLM chain to ask a question\n",
    "qa_chain({\"query\": question})"
   ]
  },
  {
   "cell_type": "markdown",
   "id": "e8c7cadb",
   "metadata": {},
   "source": [
    "## Playground\n",
    "Play with different questions, test the LLM."
   ]
  },
  {
   "cell_type": "code",
   "execution_count": 14,
   "id": "5bf85f04",
   "metadata": {},
   "outputs": [
    {
     "name": "stderr",
     "output_type": "stream",
     "text": [
      "Token indices sequence length is longer than the specified maximum sequence length for this model (538 > 512). Running this sequence through the model will result in indexing errors\n"
     ]
    },
    {
     "data": {
      "text/plain": [
       "{'query': 'Who was Vincent van Gogh?',\n",
       " 'result': 'Dutch post-impressionist painter'}"
      ]
     },
     "metadata": {},
     "output_type": "display_data"
    }
   ],
   "source": [
    "question = \"Who was Vincent van Gogh?\"\n",
    "#question = \"Who was van Gogh's best friend?\"\n",
    "#question = \"When was van Gogh's born?\"\n",
    "#question = \"When did van Gogh die?\"\n",
    "#question = \"Who was Pablo Picasso?\"\n",
    "\n",
    "result = qa_chain({\"query\": question})\n",
    "display(result)"
   ]
  },
  {
   "cell_type": "code",
   "execution_count": null,
   "id": "56be5437",
   "metadata": {},
   "outputs": [],
   "source": []
  }
 ],
 "metadata": {
  "kernelspec": {
   "display_name": "Python 3 (ipykernel)",
   "language": "python",
   "name": "python3"
  },
  "language_info": {
   "codemirror_mode": {
    "name": "ipython",
    "version": 3
   },
   "file_extension": ".py",
   "mimetype": "text/x-python",
   "name": "python",
   "nbconvert_exporter": "python",
   "pygments_lexer": "ipython3",
   "version": "3.10.12"
  }
 },
 "nbformat": 4,
 "nbformat_minor": 5
}
