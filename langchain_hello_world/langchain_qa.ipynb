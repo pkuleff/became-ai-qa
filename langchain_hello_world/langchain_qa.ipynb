{
 "cells": [
  {
   "cell_type": "markdown",
   "id": "0b9867e7",
   "metadata": {},
   "source": [
    "## Installs, Imports and Configuration"
   ]
  },
  {
   "cell_type": "code",
   "execution_count": 1,
   "id": "339bf4e4",
   "metadata": {},
   "outputs": [],
   "source": [
    "from langchain.llms import OpenAI\n",
    "from langchain.document_loaders import WebBaseLoader\n",
    "from langchain.text_splitter import RecursiveCharacterTextSplitter\n",
    "from langchain.embeddings import OpenAIEmbeddings\n",
    "from langchain.vectorstores import Chroma\n",
    "from langchain.chains import RetrievalQA\n",
    "from langchain.chat_models import ChatOpenAI"
   ]
  },
  {
   "cell_type": "code",
   "execution_count": 2,
   "id": "a7887336",
   "metadata": {},
   "outputs": [],
   "source": [
    "# set OpenAI api key\n",
    "API_KEY = \"sk-...\"\n",
    "\n",
    "# setup language model\n",
    "llm = OpenAI(openai_api_key=API_KEY)"
   ]
  },
  {
   "cell_type": "markdown",
   "id": "135f483c",
   "metadata": {},
   "source": [
    "## QA Pipeline\n",
    "See https://python.langchain.com/docs/use_cases/question_answering/"
   ]
  },
  {
   "cell_type": "markdown",
   "id": "add0e6de",
   "metadata": {},
   "source": [
    "### Loading Documents"
   ]
  },
  {
   "cell_type": "code",
   "execution_count": 3,
   "id": "a3602d2f",
   "metadata": {},
   "outputs": [],
   "source": [
    "pages = [\"https://en.wikipedia.org/wiki/Vincent_van_Gogh\",\n",
    "         \"https://medium.com/@anastasia_mze/vincent-van-gogh-from-a-bum-to-a-master-743aec22755e\",\n",
    "         \"https://www.history.com/news/7-things-you-may-not-know-about-vincent-van-gogh\",\n",
    "         \"https://arthinkal.com/vincent-van-gogh-a-brief-biography-1853-1890/\",\n",
    "         \"https://www.metmuseum.org/toah/hd/gogh/hd_gogh.htm\"]\n",
    "\n",
    "loader = WebBaseLoader(pages)\n",
    "docs = loader.load()"
   ]
  },
  {
   "cell_type": "markdown",
   "id": "70cab0c7",
   "metadata": {},
   "source": [
    "### Split"
   ]
  },
  {
   "cell_type": "code",
   "execution_count": 4,
   "id": "e7d08eaa",
   "metadata": {},
   "outputs": [],
   "source": [
    "text_splitter = RecursiveCharacterTextSplitter(chunk_size = 500, chunk_overlap = 0)\n",
    "splits = text_splitter.split_documents(docs)"
   ]
  },
  {
   "cell_type": "markdown",
   "id": "53d70261",
   "metadata": {},
   "source": [
    "### Embed in Vector Store"
   ]
  },
  {
   "cell_type": "code",
   "execution_count": 5,
   "id": "198c3f5c",
   "metadata": {},
   "outputs": [],
   "source": [
    "vectorstore = Chroma.from_documents(documents=splits, embedding=OpenAIEmbeddings(openai_api_key=API_KEY))"
   ]
  },
  {
   "cell_type": "markdown",
   "id": "e9fb694c",
   "metadata": {},
   "source": [
    "### Query the DB"
   ]
  },
  {
   "cell_type": "code",
   "execution_count": 6,
   "id": "591ef368",
   "metadata": {},
   "outputs": [],
   "source": [
    "question = \"When and where was Vincent van Gogh born?\"\n",
    "qa_docs = vectorstore.similarity_search(question)"
   ]
  },
  {
   "cell_type": "code",
   "execution_count": 7,
   "id": "0ffdf406",
   "metadata": {},
   "outputs": [
    {
     "name": "stdout",
     "output_type": "stream",
     "text": [
      "----------------------------------------\n",
      "Vincent van Gogh - A Brief Biography (1853-1890) - Arthinkal Magazine\n",
      "----------------------------------------\n",
      "Vincent van Gogh was born on 30th March 1853 in Groot-Zundert, a municipality and town in the south of the Netherlands.\n",
      "Van Gogh was the oldest surviving child of Theodorus van Gogh, a minister of the Dutch Reformed Church, and Anna Cornelia Carbentus, who came from a prosperous family.\n",
      "Van Gogh was said to be a serious and thoughtful child, who was at first home-schooled by his mother and a governess. Later on, in 1860, he was sent to the local village school.\n",
      "\n",
      "\n",
      "----------------------------------------\n",
      "Vincent van Gogh - Wikipedia\n",
      "----------------------------------------\n",
      "Vincent Willem van Gogh was born on 30 March 1853 in Groot-Zundert, in the predominantly Catholic province of North Brabant in the Netherlands.[23] He was the oldest surviving child of Theodorus van Gogh (1822–1885), a minister of the Dutch Reformed Church, and his wife, Anna Cornelia Carbentus (1819–1907). Van Gogh was given the name of his grandfather and of a brother stillborn exactly a year before his birth.[note 2] Vincent was a common name in the Van Gogh family. The name had been borne\n",
      "\n",
      "\n",
      "----------------------------------------\n",
      "Vincent van Gogh - Wikipedia\n",
      "----------------------------------------\n",
      "Vincent van Gogh (left) in 1873, when he worked at the Goupil & Cie gallery in The Hague;[13] His brother, Theo (pictured right, in 1878), was a life-long supporter and friend.\n",
      "\n",
      "\n",
      "----------------------------------------\n",
      "Vincent van Gogh - Wikipedia\n",
      "----------------------------------------\n",
      "Vincent van GoghSelf-Portrait, 1887, Art Institute of ChicagoBornVincent Willem van Gogh(1853-03-30)30 March 1853Zundert, NetherlandsDied29 July 1890(1890-07-29) (aged 37)Auvers-sur-Oise, FranceCause of deathGunshot woundEducationRoyal Academy of Fine ArtsAcadémie Royale des Beaux-ArtsNotable workSunflowers (1887)Bedroom in Arles (1888)The Starry Night (1889)Wheatfield with Crows (1890)Sorrowing Old Man (1890)MovementPost-ImpressionismFamilyTheodorus van Gogh (brother)Signature\n",
      "\n",
      "\n"
     ]
    }
   ],
   "source": [
    "for i in range(len(qa_docs)):\n",
    "    print(\"-\"*40)\n",
    "    print(qa_docs[i].metadata[\"title\"])\n",
    "    print(\"-\"*40)\n",
    "    print(qa_docs[i].page_content)\n",
    "    print(\"\\n\")"
   ]
  },
  {
   "cell_type": "markdown",
   "id": "e6cb42a1",
   "metadata": {},
   "source": [
    "### Generate Response"
   ]
  },
  {
   "cell_type": "code",
   "execution_count": 8,
   "id": "5cb07853",
   "metadata": {},
   "outputs": [],
   "source": [
    "llm = ChatOpenAI(openai_api_key=API_KEY, model_name=\"gpt-3.5-turbo\", temperature=0)\n",
    "qa_chain = RetrievalQA.from_chain_type(llm,retriever=vectorstore.as_retriever())\n",
    "qa = qa_chain({\"query\": question})"
   ]
  },
  {
   "cell_type": "code",
   "execution_count": 9,
   "id": "2f6ede9a",
   "metadata": {},
   "outputs": [
    {
     "data": {
      "text/plain": [
       "{'query': 'When and where was Vincent van Gogh born?',\n",
       " 'result': 'Vincent van Gogh was born on 30th March 1853 in Groot-Zundert, a municipality and town in the south of the Netherlands.'}"
      ]
     },
     "metadata": {},
     "output_type": "display_data"
    }
   ],
   "source": [
    "display(qa)"
   ]
  },
  {
   "cell_type": "code",
   "execution_count": null,
   "id": "fa6669dd",
   "metadata": {},
   "outputs": [],
   "source": []
  }
 ],
 "metadata": {
  "kernelspec": {
   "display_name": "Python 3 (ipykernel)",
   "language": "python",
   "name": "python3"
  },
  "language_info": {
   "codemirror_mode": {
    "name": "ipython",
    "version": 3
   },
   "file_extension": ".py",
   "mimetype": "text/x-python",
   "name": "python",
   "nbconvert_exporter": "python",
   "pygments_lexer": "ipython3",
   "version": "3.10.12"
  }
 },
 "nbformat": 4,
 "nbformat_minor": 5
}
